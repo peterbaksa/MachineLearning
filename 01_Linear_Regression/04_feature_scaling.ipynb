{
 "cells": [
  {
   "cell_type": "markdown",
   "source": [
    "# Feature Scaling \n",
    "Is one of important step in preparation good model before whole training process. <br>\n",
    "Feature scaling help speed up calculation and helps model do better job.\n",
    "\n",
    "### Process feature scaling\n",
    "The main goal of feature scaling is to normalize input data values - get values of all inputs to same decimal range.\n",
    "\n",
    "## Max value normalization: (0 <= x <= 1)\n",
    "\n",
    "## Mean normalization:\n",
    "\n",
    "## Z-score normalization\n"
   ],
   "metadata": {
    "collapsed": false
   },
   "id": "39f40f533b79c7f"
  },
  {
   "cell_type": "markdown",
   "source": [
    "## To demonstrate normalization, we packed functions in to utils.py"
   ],
   "metadata": {
    "collapsed": false
   },
   "id": "b76a141c56b5f3b2"
  },
  {
   "cell_type": "code",
   "execution_count": 1,
   "outputs": [],
   "source": [
    "%matplotlib inline\n",
    "import pandas as pd\n",
    "import numpy as np"
   ],
   "metadata": {
    "collapsed": false,
    "ExecuteTime": {
     "end_time": "2023-10-24T05:34:39.756328400Z",
     "start_time": "2023-10-24T05:34:39.254425500Z"
    }
   },
   "id": "4139a75a4ed5aa27"
  },
  {
   "cell_type": "code",
   "execution_count": 2,
   "outputs": [],
   "source": [
    "data = pd.read_csv('data_sets/housing_prices.csv')\n",
    "x_train = np.array(data['area'].to_list())\n",
    "y_train = np.array(data['price'].to_list())"
   ],
   "metadata": {
    "collapsed": false,
    "ExecuteTime": {
     "end_time": "2023-10-24T05:35:18.288201600Z",
     "start_time": "2023-10-24T05:35:18.264645500Z"
    }
   },
   "id": "6c4e2a25866d2366"
  },
  {
   "cell_type": "code",
   "execution_count": 3,
   "outputs": [
    {
     "data": {
      "text/plain": "array([210, 160, 240, 141, 300, 198, 153, 142, 138, 149, 194, 200, 189,\n       447, 126, 230, 132, 123, 260, 303, 176, 188, 160, 196, 389, 110,\n       145, 252, 220, 263, 183, 100, 204, 313, 181, 143, 123, 213, 421,\n       216, 166, 223, 256, 120,  85, 185, 120])"
     },
     "execution_count": 3,
     "metadata": {},
     "output_type": "execute_result"
    }
   ],
   "source": [],
   "metadata": {
    "collapsed": false,
    "ExecuteTime": {
     "end_time": "2023-10-24T05:35:21.316487100Z",
     "start_time": "2023-10-24T05:35:21.300497300Z"
    }
   },
   "id": "f09d1120f31a47e6"
  },
  {
   "cell_type": "code",
   "execution_count": null,
   "outputs": [],
   "source": [],
   "metadata": {
    "collapsed": false
   },
   "id": "9e462a008e59b41b"
  }
 ],
 "metadata": {
  "kernelspec": {
   "display_name": "Python 3",
   "language": "python",
   "name": "python3"
  },
  "language_info": {
   "codemirror_mode": {
    "name": "ipython",
    "version": 2
   },
   "file_extension": ".py",
   "mimetype": "text/x-python",
   "name": "python",
   "nbconvert_exporter": "python",
   "pygments_lexer": "ipython2",
   "version": "2.7.6"
  }
 },
 "nbformat": 4,
 "nbformat_minor": 5
}
