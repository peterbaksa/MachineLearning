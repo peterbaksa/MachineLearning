{
 "cells": [
  {
   "cell_type": "markdown",
   "source": [
    "# Feature Scaling \n",
    "Is one of important step in preparation good model before whole training process. <br>\n",
    "Feature scaling help speed up calculation and helps model do better job.\n",
    "\n",
    "### Process feature scaling\n",
    "The main goal of feature scaling is to normalize input data values - get values of all inputs to same decimal range.\n",
    "\n",
    "## Max value normalization: (0 <= x <= 1)\n",
    "\n",
    "## Mean normalization:\n",
    "\n",
    "## Z-score normalization\n"
   ],
   "metadata": {
    "collapsed": false
   },
   "id": "39f40f533b79c7f"
  },
  {
   "cell_type": "markdown",
   "source": [
    "## To demonstrate normalization, we packed functions in to utils.py"
   ],
   "metadata": {
    "collapsed": false
   },
   "id": "b76a141c56b5f3b2"
  },
  {
   "cell_type": "code",
   "execution_count": 1,
   "outputs": [],
   "source": [
    "%matplotlib inline\n",
    "import pandas as pd\n",
    "import numpy as np"
   ],
   "metadata": {
    "collapsed": false,
    "ExecuteTime": {
     "end_time": "2023-10-26T19:41:18.230300300Z",
     "start_time": "2023-10-26T19:41:17.426432100Z"
    }
   },
   "id": "4139a75a4ed5aa27"
  },
  {
   "cell_type": "code",
   "execution_count": 2,
   "outputs": [],
   "source": [
    "data = pd.read_csv('data_sets/housing_prices.csv')\n",
    "x_train = np.array(data['area'].to_list())\n",
    "y_train = np.array(data['price'].to_list())"
   ],
   "metadata": {
    "collapsed": false,
    "ExecuteTime": {
     "end_time": "2023-10-26T19:41:18.245714600Z",
     "start_time": "2023-10-26T19:41:18.232293900Z"
    }
   },
   "id": "6c4e2a25866d2366"
  },
  {
   "cell_type": "code",
   "execution_count": 2,
   "outputs": [],
   "source": [],
   "metadata": {
    "collapsed": false,
    "ExecuteTime": {
     "end_time": "2023-10-26T19:41:18.264662400Z",
     "start_time": "2023-10-26T19:41:18.246711900Z"
    }
   },
   "id": "f09d1120f31a47e6"
  },
  {
   "cell_type": "code",
   "execution_count": 2,
   "outputs": [],
   "source": [],
   "metadata": {
    "collapsed": false,
    "ExecuteTime": {
     "end_time": "2023-10-26T19:41:18.276632100Z",
     "start_time": "2023-10-26T19:41:18.261671200Z"
    }
   },
   "id": "9e462a008e59b41b"
  }
 ],
 "metadata": {
  "kernelspec": {
   "display_name": "Python 3",
   "language": "python",
   "name": "python3"
  },
  "language_info": {
   "codemirror_mode": {
    "name": "ipython",
    "version": 2
   },
   "file_extension": ".py",
   "mimetype": "text/x-python",
   "name": "python",
   "nbconvert_exporter": "python",
   "pygments_lexer": "ipython2",
   "version": "2.7.6"
  }
 },
 "nbformat": 4,
 "nbformat_minor": 5
}
