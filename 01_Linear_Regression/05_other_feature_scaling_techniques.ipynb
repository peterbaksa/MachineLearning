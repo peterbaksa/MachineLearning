{
 "cells": [
  {
   "cell_type": "markdown",
   "source": [
    "# Other feature scaling techniques\n",
    "\n",
    "In last notebook we explained the feature scaling = NORMALIZATION of input and target data of model.<br>\n",
    "There was explained max value normalization where we divided all data points with maximum of its group to get data in range: 0 <= x <= 1\n",
    "\n",
    "In this will be explained:\n",
    "## Mean normalization:\n",
    "\n",
    "\n",
    "## Z-score normalization\n",
    "\n",
    "\n",
    " "
   ],
   "metadata": {
    "collapsed": false
   },
   "id": "3f76d4da5b0c46bd"
  }
 ],
 "metadata": {
  "kernelspec": {
   "display_name": "Python 3",
   "language": "python",
   "name": "python3"
  },
  "language_info": {
   "codemirror_mode": {
    "name": "ipython",
    "version": 2
   },
   "file_extension": ".py",
   "mimetype": "text/x-python",
   "name": "python",
   "nbconvert_exporter": "python",
   "pygments_lexer": "ipython2",
   "version": "2.7.6"
  }
 },
 "nbformat": 4,
 "nbformat_minor": 5
}
