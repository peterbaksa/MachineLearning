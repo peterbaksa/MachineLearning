{
 "cells": [
  {
   "cell_type": "markdown",
   "source": [
    "# Vectorization - 2 features\n",
    "In this notebook is explained how apply vectorization on Linear Regression with 2 features"
   ],
   "metadata": {
    "collapsed": false
   },
   "id": "e72c59481d2ef62e"
  },
  {
   "cell_type": "code",
   "execution_count": 372,
   "outputs": [],
   "source": [
    "import numpy as np"
   ],
   "metadata": {
    "collapsed": false,
    "ExecuteTime": {
     "end_time": "2023-11-20T12:44:03.928964500Z",
     "start_time": "2023-11-20T12:44:03.790728300Z"
    }
   },
   "id": "68704720a4833f95"
  },
  {
   "cell_type": "code",
   "execution_count": 373,
   "outputs": [
    {
     "data": {
      "text/plain": "array([56, 48, 66, 72])"
     },
     "execution_count": 373,
     "metadata": {},
     "output_type": "execute_result"
    }
   ],
   "source": [
    "x_1 = np.array([56, 48, 66, 72])\n",
    "x_2 = np.array([16, 88, 10, 52])\n",
    "y = np.array([13, 11, 14, 18])\n",
    "x_1"
   ],
   "metadata": {
    "collapsed": false,
    "ExecuteTime": {
     "end_time": "2023-11-20T12:44:03.933690300Z",
     "start_time": "2023-11-20T12:44:03.811182900Z"
    }
   },
   "id": "ff0815f727ac6eb5"
  },
  {
   "cell_type": "markdown",
   "source": [
    "# Manual define model"
   ],
   "metadata": {
    "collapsed": false
   },
   "id": "8fe9dcd1770f6da7"
  },
  {
   "cell_type": "code",
   "execution_count": 374,
   "outputs": [],
   "source": [
    "w_1 = 11\n",
    "w_2 = 15\n",
    "b = 30"
   ],
   "metadata": {
    "collapsed": false,
    "ExecuteTime": {
     "end_time": "2023-11-20T12:44:03.976264800Z",
     "start_time": "2023-11-20T12:44:03.825090Z"
    }
   },
   "id": "5eadb546a8204df"
  },
  {
   "cell_type": "markdown",
   "source": [
    "# Model linear regression NON-vectorized"
   ],
   "metadata": {
    "collapsed": false
   },
   "id": "1093d50728ef3827"
  },
  {
   "cell_type": "code",
   "execution_count": 375,
   "outputs": [
    {
     "data": {
      "text/plain": "array([ 886., 1878.,  906., 1602.])"
     },
     "execution_count": 375,
     "metadata": {},
     "output_type": "execute_result"
    }
   ],
   "source": [
    "m = x_1.shape[0]\n",
    "f_x = np.zeros(m)\n",
    "for i in range(m):\n",
    "    f_x[i] = w_1*x_1[i] + w_2*x_2[i] + b\n",
    "f_x"
   ],
   "metadata": {
    "collapsed": false,
    "ExecuteTime": {
     "end_time": "2023-11-20T12:44:03.999980700Z",
     "start_time": "2023-11-20T12:44:03.842526600Z"
    }
   },
   "id": "7be7d9cd128c1e66"
  },
  {
   "cell_type": "markdown",
   "source": [
    "# Model linear regression Vectorized"
   ],
   "metadata": {
    "collapsed": false
   },
   "id": "8cc3497e58551200"
  },
  {
   "cell_type": "markdown",
   "source": [
    "## Using np.dot function requires:\n",
    "- x_train - is np vector of dimension (x, 1)\n",
    "- w - is np vector of dimension (1,1)"
   ],
   "metadata": {
    "collapsed": false
   },
   "id": "f191b4bc5a979fa1"
  },
  {
   "cell_type": "code",
   "execution_count": 376,
   "outputs": [
    {
     "name": "stdout",
     "output_type": "stream",
     "text": [
      "[[56 16]\n",
      " [48 88]\n",
      " [66 10]\n",
      " [72 52]]\n",
      "x_train shape: (4, 2)\n",
      "[[11]\n",
      " [15]]\n",
      "w shape: (2, 1)\n"
     ]
    }
   ],
   "source": [
    "x_1 = np.array([56, 48, 66, 72])\n",
    "x_2 = np.array([16, 88, 10, 52])\n",
    "x = np.c_[x_1, x_2]\n",
    "print(x)\n",
    "print(f'x_train shape: {x.shape}')\n",
    "\n",
    "w = np.array([[11], [15]]) ## same as np.array([[201]])\n",
    "print(w)\n",
    "print(f'w shape: {w.shape}')\n",
    "\n",
    "b = 30"
   ],
   "metadata": {
    "collapsed": false,
    "ExecuteTime": {
     "end_time": "2023-11-20T12:44:04.002082900Z",
     "start_time": "2023-11-20T12:44:03.857862800Z"
    }
   },
   "id": "7101a9589c7d33fd"
  },
  {
   "cell_type": "markdown",
   "source": [
    "## Vectorised model"
   ],
   "metadata": {
    "collapsed": false
   },
   "id": "5fba005770ad9ea"
  },
  {
   "cell_type": "code",
   "execution_count": 377,
   "outputs": [
    {
     "data": {
      "text/plain": "array([[ 886],\n       [1878],\n       [ 906],\n       [1602]])"
     },
     "execution_count": 377,
     "metadata": {},
     "output_type": "execute_result"
    }
   ],
   "source": [
    "f_x = np.dot(x, w) + b\n",
    "f_x"
   ],
   "metadata": {
    "collapsed": false,
    "ExecuteTime": {
     "end_time": "2023-11-20T12:44:04.003105Z",
     "start_time": "2023-11-20T12:44:03.874005100Z"
    }
   },
   "id": "f508024c785e3aff"
  },
  {
   "cell_type": "markdown",
   "source": [
    "# Cost function"
   ],
   "metadata": {
    "collapsed": false
   },
   "id": "f30ff91f569df1ae"
  },
  {
   "cell_type": "code",
   "execution_count": 378,
   "outputs": [],
   "source": [
    "x_1 = np.array([56, 48, 66, 72])\n",
    "x_2 = np.array([16, 88, 10, 52])\n",
    "y = np.array([13, 11, 14, 18])\n",
    "\n",
    "w_1 = 11\n",
    "w_2 = 15\n",
    "b = 30\n",
    "\n",
    "m = x_1.shape[0]"
   ],
   "metadata": {
    "collapsed": false,
    "ExecuteTime": {
     "end_time": "2023-11-20T12:44:04.003105Z",
     "start_time": "2023-11-20T12:44:03.889158100Z"
    }
   },
   "id": "f7164350ed9f69aa"
  },
  {
   "cell_type": "code",
   "execution_count": 379,
   "outputs": [
    {
     "name": "stdout",
     "output_type": "stream",
     "text": [
      " Cost computed non-vectorized: 944067.25\n"
     ]
    }
   ],
   "source": [
    "cost_sum = 0\n",
    "for i in range(m): \n",
    "    f_x = w_1 * x_1[i] + w_2 * x_2[i] + b   \n",
    "    cost = (f_x - y[i]) ** 2  \n",
    "    cost_sum += cost\n",
    "total_cost = (1 / (2.0 * m)) * cost_sum  \n",
    "\n",
    "print(f\" Cost computed non-vectorized: {total_cost}\")"
   ],
   "metadata": {
    "collapsed": false,
    "ExecuteTime": {
     "end_time": "2023-11-20T12:44:04.003105Z",
     "start_time": "2023-11-20T12:44:03.904686200Z"
    }
   },
   "id": "157e6c7a4895abfc"
  },
  {
   "cell_type": "markdown",
   "source": [
    "## Vectorized cost function"
   ],
   "metadata": {
    "collapsed": false
   },
   "id": "c9be31a8c216f313"
  },
  {
   "cell_type": "code",
   "execution_count": 380,
   "outputs": [],
   "source": [
    "x_1 = np.array([56, 48, 66, 72])\n",
    "x_2 = np.array([16, 88, 10, 52])\n",
    "y = np.array([13, 11, 14, 18]) # (4, )\n",
    "y = y.reshape(-1, 1) # (4, 1)\n",
    "\n",
    "x = np.c_[x_1, x_2]\n",
    "\n",
    "w = np.array([[11], [15]])\n",
    "b = 30\n",
    "\n",
    "m = x_1.shape[0]"
   ],
   "metadata": {
    "collapsed": false,
    "ExecuteTime": {
     "end_time": "2023-11-20T12:44:04.026197100Z",
     "start_time": "2023-11-20T12:44:03.921221400Z"
    }
   },
   "id": "59ed6bc786927bd4"
  },
  {
   "cell_type": "markdown",
   "source": [
    "Before all numPy matrix operations all matrixes needs to have both parameters of shape"
   ],
   "metadata": {
    "collapsed": false
   },
   "id": "d073382d58d92463"
  },
  {
   "cell_type": "code",
   "execution_count": 381,
   "outputs": [
    {
     "name": "stdout",
     "output_type": "stream",
     "text": [
      "x.shape: (4, 2)\n",
      "y.shape: (4, 1)\n",
      "w.shape: (2, 1)\n"
     ]
    }
   ],
   "source": [
    "print(f\"x.shape: {x.shape}\")\n",
    "print(f\"y.shape: {y.shape}\")\n",
    "print(f\"w.shape: {w.shape}\")"
   ],
   "metadata": {
    "collapsed": false,
    "ExecuteTime": {
     "end_time": "2023-11-20T12:44:04.043121300Z",
     "start_time": "2023-11-20T12:44:03.934636200Z"
    }
   },
   "id": "41f62e73c60068ce"
  },
  {
   "cell_type": "code",
   "execution_count": 382,
   "outputs": [
    {
     "name": "stdout",
     "output_type": "stream",
     "text": [
      " Cost computed Vectorized: 944067.25\n"
     ]
    }
   ],
   "source": [
    "f_x = np.dot(x, w) + b\n",
    "cost = np.sum((f_x - y)**2)\n",
    "cost_sum = np.sum(cost)\n",
    "total_cost = (1 / (2.0 * m)) * cost_sum\n",
    "\n",
    "print(f\" Cost computed Vectorized: {total_cost}\")"
   ],
   "metadata": {
    "collapsed": false,
    "ExecuteTime": {
     "end_time": "2023-11-20T12:44:04.109935300Z",
     "start_time": "2023-11-20T12:44:03.951812700Z"
    }
   },
   "id": "f2fd87ece0ba0369"
  },
  {
   "cell_type": "markdown",
   "source": [
    "# Gradient descent"
   ],
   "metadata": {
    "collapsed": false
   },
   "id": "ecfc21c8e70663f1"
  },
  {
   "cell_type": "code",
   "execution_count": 383,
   "outputs": [],
   "source": [
    "x_1 = np.array([56, 48, 66, 72])\n",
    "x_2 = np.array([16, 88, 10, 52])\n",
    "y = np.array([13, 11, 14, 18])\n",
    "\n",
    "w_1 = 11\n",
    "w_2 = 15\n",
    "b = 30\n",
    "\n",
    "m = x_1.shape[0]"
   ],
   "metadata": {
    "collapsed": false,
    "ExecuteTime": {
     "end_time": "2023-11-20T12:44:04.109935300Z",
     "start_time": "2023-11-20T12:44:03.967686100Z"
    }
   },
   "id": "da80046dbf68f46a"
  },
  {
   "cell_type": "code",
   "execution_count": 384,
   "outputs": [
    {
     "name": "stdout",
     "output_type": "stream",
     "text": [
      "77856.0 67388.0 1304.0\n"
     ]
    }
   ],
   "source": [
    "dJ_dw_1 = 0\n",
    "dJ_dw_2 = 0\n",
    "dJ_db = 0\n",
    "\n",
    "for i in range(m):\n",
    "    f_x = w_1 * x_1[i] + w_2 * x_2[i] + b\n",
    "    dJ_dw_1_i = (f_x - y[i]) * x_1[i]\n",
    "    dJ_dw_2_i = (f_x - y[i]) * x_2[i]\n",
    "    dJ_db_i  = (f_x - y[i])\n",
    "    dJ_dw_1 += dJ_dw_1_i\n",
    "    dJ_dw_2 += dJ_dw_2_i\n",
    "    dJ_db += dJ_db_i\n",
    "dJ_dw_1 = dJ_dw_1 / m\n",
    "dJ_dw_2 = dJ_dw_2 / m\n",
    "dJ_db = dJ_db / m\n",
    "\n",
    "print(dJ_dw_1, dJ_dw_2, dJ_db )"
   ],
   "metadata": {
    "collapsed": false,
    "ExecuteTime": {
     "end_time": "2023-11-20T12:44:04.110930300Z",
     "start_time": "2023-11-20T12:44:03.985889Z"
    }
   },
   "id": "d60437300fd9194f"
  },
  {
   "cell_type": "markdown",
   "source": [
    "# Vectorized gradient descent"
   ],
   "metadata": {
    "collapsed": false
   },
   "id": "aab0085d3cb4b744"
  },
  {
   "cell_type": "code",
   "execution_count": 385,
   "outputs": [],
   "source": [
    "x_1 = np.array([56, 48, 66, 72])\n",
    "x_2 = np.array([16, 88, 10, 52])\n",
    "y = np.array([13, 11, 14, 18]) # (4, )\n",
    "y = y.reshape(-1, 1) # (4, 1)\n",
    "\n",
    "x = np.c_[x_1, x_2]\n",
    "\n",
    "w = np.array([[11], [15]])\n",
    "b = 30\n",
    "\n",
    "m = x_1.shape[0]"
   ],
   "metadata": {
    "collapsed": false,
    "ExecuteTime": {
     "end_time": "2023-11-20T12:44:04.114866900Z",
     "start_time": "2023-11-20T12:44:03.998983800Z"
    }
   },
   "id": "ad2bcd29265faec7"
  },
  {
   "cell_type": "code",
   "execution_count": 386,
   "outputs": [
    {
     "name": "stdout",
     "output_type": "stream",
     "text": [
      "77856.0 67388.0 1304.0\n"
     ]
    }
   ],
   "source": [
    "f_wb = np.dot(x, w) + b\n",
    "error = f_wb - y\n",
    "dJ_dw = np.dot(x.T, error) * (1/m)  \n",
    "dJ_db = np.sum(error) * (1/m) \n",
    "\n",
    "print(dJ_dw[0][0], dJ_dw[1][0], dJ_db)"
   ],
   "metadata": {
    "collapsed": false,
    "ExecuteTime": {
     "end_time": "2023-11-20T12:44:04.132134300Z",
     "start_time": "2023-11-20T12:44:04.015624400Z"
    }
   },
   "id": "32e327d762cfdc24"
  },
  {
   "cell_type": "code",
   "execution_count": 386,
   "outputs": [],
   "source": [],
   "metadata": {
    "collapsed": false,
    "ExecuteTime": {
     "end_time": "2023-11-20T12:44:04.132134300Z",
     "start_time": "2023-11-20T12:44:04.031181100Z"
    }
   },
   "id": "2f5df6ba4215fe11"
  }
 ],
 "metadata": {
  "kernelspec": {
   "display_name": "Python 3",
   "language": "python",
   "name": "python3"
  },
  "language_info": {
   "codemirror_mode": {
    "name": "ipython",
    "version": 2
   },
   "file_extension": ".py",
   "mimetype": "text/x-python",
   "name": "python",
   "nbconvert_exporter": "python",
   "pygments_lexer": "ipython2",
   "version": "2.7.6"
  }
 },
 "nbformat": 4,
 "nbformat_minor": 5
}
