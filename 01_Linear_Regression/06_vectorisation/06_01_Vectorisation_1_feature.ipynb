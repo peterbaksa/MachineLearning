{
 "cells": [
  {
   "cell_type": "markdown",
   "source": [
    "# Vectorisation "
   ],
   "metadata": {
    "collapsed": false
   },
   "id": "972d2fd2386014d2"
  },
  {
   "cell_type": "code",
   "execution_count": 23,
   "outputs": [],
   "source": [
    "%matplotlib inline\n",
    "\n",
    "import numpy as np"
   ],
   "metadata": {
    "collapsed": false,
    "ExecuteTime": {
     "end_time": "2023-11-20T08:38:21.537180900Z",
     "start_time": "2023-11-20T08:38:21.414763100Z"
    }
   },
   "id": "52062de1398d6add"
  },
  {
   "cell_type": "markdown",
   "source": [
    "# Create input and outut data:"
   ],
   "metadata": {
    "collapsed": false
   },
   "id": "441b4b41dffff160"
  },
  {
   "cell_type": "code",
   "execution_count": 24,
   "outputs": [
    {
     "data": {
      "text/plain": "array([56, 48, 66, 72])"
     },
     "execution_count": 24,
     "metadata": {},
     "output_type": "execute_result"
    }
   ],
   "source": [
    "x_train = np.array([56, 48, 66, 72])\n",
    "y_train = np.array([130000, 118000, 145000, 180000])\n",
    "x_train"
   ],
   "metadata": {
    "collapsed": false,
    "ExecuteTime": {
     "end_time": "2023-11-20T08:38:21.626938200Z",
     "start_time": "2023-11-20T08:38:21.422612900Z"
    }
   },
   "id": "8590818dbc912c96"
  },
  {
   "cell_type": "markdown",
   "source": [
    "# Manual define model:"
   ],
   "metadata": {
    "collapsed": false
   },
   "id": "fef0a9c038cccc5c"
  },
  {
   "cell_type": "code",
   "execution_count": 25,
   "outputs": [
    {
     "data": {
      "text/plain": "201"
     },
     "execution_count": 25,
     "metadata": {},
     "output_type": "execute_result"
    }
   ],
   "source": [
    "w = 201\n",
    "b = 30000\n",
    "w"
   ],
   "metadata": {
    "collapsed": false,
    "ExecuteTime": {
     "end_time": "2023-11-20T08:38:21.628931300Z",
     "start_time": "2023-11-20T08:38:21.437992200Z"
    }
   },
   "id": "71033b4636dda7b5"
  },
  {
   "cell_type": "markdown",
   "source": [
    "# Model linear regression NON-vectorized"
   ],
   "metadata": {
    "collapsed": false
   },
   "id": "66316ba0c723d2b0"
  },
  {
   "cell_type": "code",
   "execution_count": 26,
   "outputs": [
    {
     "data": {
      "text/plain": "array([41256., 39648., 43266., 44472.])"
     },
     "execution_count": 26,
     "metadata": {},
     "output_type": "execute_result"
    }
   ],
   "source": [
    "m = x_train.shape[0]\n",
    "f_wb = np.zeros(m)\n",
    "for i in range(m):\n",
    "    f_wb[i] = w*x_train[i] + b\n",
    "f_wb"
   ],
   "metadata": {
    "collapsed": false,
    "ExecuteTime": {
     "end_time": "2023-11-20T08:38:21.628931300Z",
     "start_time": "2023-11-20T08:38:21.447603200Z"
    }
   },
   "id": "18fd24418599240f"
  },
  {
   "cell_type": "markdown",
   "source": [
    "# Model linear regression Vectorized"
   ],
   "metadata": {
    "collapsed": false
   },
   "id": "a9cf18f54aa83c8e"
  },
  {
   "cell_type": "markdown",
   "source": [
    "## Using np.dot function requires:\n",
    "- x_train - is np vector of dimension (x, 1)\n",
    "- w - is np vector of dimension (1,1)"
   ],
   "metadata": {
    "collapsed": false
   },
   "id": "253120752ce6403"
  },
  {
   "cell_type": "code",
   "execution_count": 27,
   "outputs": [
    {
     "name": "stdout",
     "output_type": "stream",
     "text": [
      "x_train shape origin: (4,)\n",
      "x_train shape reshaped: (4, 1)\n",
      "w shape origin: (1,)\n",
      "w shape reshaped: (1, 1)\n"
     ]
    }
   ],
   "source": [
    "print(f'x_train shape origin: {x_train.shape}')\n",
    "x_train = x_train.reshape(-1, 1)\n",
    "print(f'x_train shape reshaped: {x_train.shape}')\n",
    "\n",
    "w = np.array([201]) ## same as np.array([[201]])\n",
    "print(f'w shape origin: {w.shape}')\n",
    "w = w.reshape(-1, 1)\n",
    "print(f'w shape reshaped: {w.shape}')"
   ],
   "metadata": {
    "collapsed": false,
    "ExecuteTime": {
     "end_time": "2023-11-20T08:38:21.634832900Z",
     "start_time": "2023-11-20T08:38:21.458777700Z"
    }
   },
   "id": "53cd6129d8757e99"
  },
  {
   "cell_type": "markdown",
   "source": [
    "## Vectorised model"
   ],
   "metadata": {
    "collapsed": false
   },
   "id": "bfe6ac7df014e0b5"
  },
  {
   "cell_type": "code",
   "execution_count": 28,
   "outputs": [
    {
     "data": {
      "text/plain": "array([[41256],\n       [39648],\n       [43266],\n       [44472]])"
     },
     "execution_count": 28,
     "metadata": {},
     "output_type": "execute_result"
    }
   ],
   "source": [
    "f_x = np.dot(x_train, w) + b\n",
    "f_x"
   ],
   "metadata": {
    "collapsed": false,
    "ExecuteTime": {
     "end_time": "2023-11-20T08:38:21.690942800Z",
     "start_time": "2023-11-20T08:38:21.473460500Z"
    }
   },
   "id": "4c1563cb3043814a"
  },
  {
   "cell_type": "markdown",
   "source": [
    "# Cost function"
   ],
   "metadata": {
    "collapsed": false
   },
   "id": "a910dd5a49cb22fb"
  },
  {
   "cell_type": "code",
   "execution_count": 29,
   "outputs": [],
   "source": [
    "x_train = np.array([56, 48, 66, 72])\n",
    "y_train = np.array([13, 11, 14, 18])\n",
    "w = 201\n",
    "b = 300\n",
    "m = x_train.shape[0] "
   ],
   "metadata": {
    "collapsed": false,
    "ExecuteTime": {
     "end_time": "2023-11-20T08:38:21.715915300Z",
     "start_time": "2023-11-20T08:38:21.485905500Z"
    }
   },
   "id": "ca0681c183c5ba14"
  },
  {
   "cell_type": "code",
   "execution_count": 30,
   "outputs": [
    {
     "name": "stdout",
     "output_type": "stream",
     "text": [
      "79165254.75\n"
     ]
    }
   ],
   "source": [
    "cost_sum = 0\n",
    "for i in range(m): \n",
    "    f_wb = w * x_train[i] + b   \n",
    "    cost = (f_wb - y_train[i]) ** 2  \n",
    "    cost_sum += cost  \n",
    "total_cost = (1 / (2.0 * m)) * cost_sum  \n",
    "\n",
    "print(total_cost)"
   ],
   "metadata": {
    "collapsed": false,
    "ExecuteTime": {
     "end_time": "2023-11-20T08:38:21.760333500Z",
     "start_time": "2023-11-20T08:38:21.495281900Z"
    }
   },
   "id": "5a282a1ec3288503"
  },
  {
   "cell_type": "markdown",
   "source": [
    "## Vectorized cost function"
   ],
   "metadata": {
    "collapsed": false
   },
   "id": "212d3ac91b692f7c"
  },
  {
   "cell_type": "code",
   "execution_count": 31,
   "outputs": [],
   "source": [
    "x_train = np.array([56, 48, 66, 72]) # (4, )\n",
    "x_train = x_train.reshape(-1,1) # (4, 1)\n",
    "y_train = np.array([13, 11, 14, 18]) #(4, )\n",
    "y_train = y_train.reshape(-1, 1)# (4, 1)\n",
    "w = np.array([201]) # (1, )\n",
    "w = w.reshape(-1, 1) # (1, 1)\n",
    "b = 300\n",
    "m = x_train.shape[0] "
   ],
   "metadata": {
    "collapsed": false,
    "ExecuteTime": {
     "end_time": "2023-11-20T08:38:21.763024400Z",
     "start_time": "2023-11-20T08:38:21.508445800Z"
    }
   },
   "id": "6af6b52e1e9d2168"
  },
  {
   "cell_type": "code",
   "execution_count": 32,
   "outputs": [
    {
     "name": "stdout",
     "output_type": "stream",
     "text": [
      "79165254.75\n"
     ]
    }
   ],
   "source": [
    "f_wb = np.dot(x_train, w) + b\n",
    "cost_sum = np.sum((f_wb - y_train)**2)\n",
    "total_cost = (1 / (2.0 * m)) * cost_sum\n",
    "\n",
    "print(total_cost)"
   ],
   "metadata": {
    "collapsed": false,
    "ExecuteTime": {
     "end_time": "2023-11-20T08:38:21.764351500Z",
     "start_time": "2023-11-20T08:38:21.517263500Z"
    }
   },
   "id": "816d293735d5c865"
  },
  {
   "cell_type": "markdown",
   "source": [
    "## Gradient Descent"
   ],
   "metadata": {
    "collapsed": false
   },
   "id": "408d2bc6cf01663d"
  },
  {
   "cell_type": "code",
   "execution_count": 33,
   "outputs": [],
   "source": [
    "x_train = np.array([56, 48, 66, 72])\n",
    "y_train = np.array([13, 11, 14, 18])\n",
    "w = 201\n",
    "b = 300\n",
    "m = x_train.shape[0] "
   ],
   "metadata": {
    "collapsed": false,
    "ExecuteTime": {
     "end_time": "2023-11-20T08:38:21.764351500Z",
     "start_time": "2023-11-20T08:38:21.525957500Z"
    }
   },
   "id": "42ae8616f57f68d5"
  },
  {
   "cell_type": "code",
   "execution_count": 34,
   "outputs": [
    {
     "name": "stdout",
     "output_type": "stream",
     "text": [
      "770026.0 12446.5\n"
     ]
    }
   ],
   "source": [
    "dJ_dw = 0\n",
    "dJ_db = 0\n",
    "\n",
    "for i in range(m):\n",
    "    f_x = w * x_train[i] + b\n",
    "    dJ_dw_i = (f_x - y_train[i]) * x_train[i]\n",
    "    dJ_db_i  = (f_x - y_train[i])\n",
    "    dJ_dw += dJ_dw_i\n",
    "    dJ_db += dJ_db_i\n",
    "dJ_dw = dJ_dw / m\n",
    "dJ_db = dJ_db / m\n",
    "\n",
    "print(dJ_dw, dJ_db )"
   ],
   "metadata": {
    "collapsed": false,
    "ExecuteTime": {
     "end_time": "2023-11-20T08:38:21.765350700Z",
     "start_time": "2023-11-20T08:38:21.535482300Z"
    }
   },
   "id": "ae7d92277ea0c811"
  },
  {
   "cell_type": "markdown",
   "source": [
    "## Vektorized"
   ],
   "metadata": {
    "collapsed": false
   },
   "id": "455a1c436e6631b7"
  },
  {
   "cell_type": "code",
   "execution_count": 35,
   "outputs": [],
   "source": [
    "x_train = np.array([56, 48, 66, 72]) # (4, )\n",
    "x_train = x_train.reshape(-1,1) # (4, 1)\n",
    "y_train = np.array([13, 11, 14, 18]) #(4, )\n",
    "y_train = y_train.reshape(-1, 1)# (4, 1)\n",
    "w = np.array([201]) # (1, )\n",
    "w = w.reshape(-1, 1) # (1, 1)\n",
    "b = 300\n",
    "m = x_train.shape[0] "
   ],
   "metadata": {
    "collapsed": false,
    "ExecuteTime": {
     "end_time": "2023-11-20T08:38:21.765350700Z",
     "start_time": "2023-11-20T08:38:21.545963Z"
    }
   },
   "id": "b972d9f4084509e0"
  },
  {
   "cell_type": "code",
   "execution_count": 36,
   "outputs": [
    {
     "name": "stdout",
     "output_type": "stream",
     "text": [
      "770026.0 12446.5\n"
     ]
    }
   ],
   "source": [
    "f_wb = np.dot(x_train, w) + b\n",
    "# (f_wb - y_train) has to be row vector not column vector so: (f_wb - y_train).T\n",
    "'''\n",
    "    because x_train is: []\n",
    "                        []\n",
    "                        []\n",
    "                        []\n",
    "    (f_wb - y_train) is: also vector (4, 1) and has to be (1, 4)\n",
    "    (f_wb - y_train).T is (1, 4): [][][][]\n",
    "'''\n",
    "dJ_dw = np.dot((f_wb - y_train).T, x_train) / m \n",
    "dJ_db = np.sum(f_wb - y_train) / m\n",
    "\n",
    "print(dJ_dw[0][0], dJ_db)"
   ],
   "metadata": {
    "collapsed": false,
    "ExecuteTime": {
     "end_time": "2023-11-20T08:38:21.766726800Z",
     "start_time": "2023-11-20T08:38:21.553305600Z"
    }
   },
   "id": "36ba783b6630ba31"
  }
 ],
 "metadata": {
  "kernelspec": {
   "display_name": "Python 3",
   "language": "python",
   "name": "python3"
  },
  "language_info": {
   "codemirror_mode": {
    "name": "ipython",
    "version": 2
   },
   "file_extension": ".py",
   "mimetype": "text/x-python",
   "name": "python",
   "nbconvert_exporter": "python",
   "pygments_lexer": "ipython2",
   "version": "2.7.6"
  }
 },
 "nbformat": 4,
 "nbformat_minor": 5
}
