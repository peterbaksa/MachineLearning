{
 "cells": [
  {
   "cell_type": "code",
   "execution_count": 1,
   "id": "initial_id",
   "metadata": {
    "collapsed": true,
    "ExecuteTime": {
     "end_time": "2023-12-06T10:33:32.433862300Z",
     "start_time": "2023-12-06T10:33:31.985389500Z"
    }
   },
   "outputs": [],
   "source": [
    "%matplotlib inline\n",
    "\n",
    "import warnings\n",
    "warnings.simplefilter(action='ignore', category=FutureWarning)\n",
    "\n",
    "import matplotlib.pyplot as plt\n",
    "import numpy as np\n",
    "import copy"
   ]
  },
  {
   "cell_type": "code",
   "execution_count": 2,
   "outputs": [],
   "source": [
    "# define data \n",
    "x_1 = np.array([56, 48, 66, 72])\n",
    "x_2 = np.array([16, 88, 10, 52])\n",
    "x = np.c_[x_1, x_2]\n",
    "\n",
    "y = np.array([13, 11, 14, 18])\n",
    "y = y.reshape(-1, 1)"
   ],
   "metadata": {
    "collapsed": false,
    "ExecuteTime": {
     "end_time": "2023-12-06T10:33:32.449003300Z",
     "start_time": "2023-12-06T10:33:32.436854800Z"
    }
   },
   "id": "17871e90aa7f83f2"
  },
  {
   "cell_type": "code",
   "execution_count": 3,
   "outputs": [],
   "source": [
    "def compute_cost_vect(x, y, w, b):\n",
    "    m = x.shape[0]\n",
    "    \n",
    "    f_x = np.dot(x, w) + b\n",
    "    cost = (f_x - y)**2\n",
    "    cost_sum = np.sum(cost)\n",
    "    total_cost = (1 / (2.0 * m)) * cost_sum\n",
    "    return total_cost"
   ],
   "metadata": {
    "collapsed": false,
    "ExecuteTime": {
     "end_time": "2023-12-06T10:33:32.475435700Z",
     "start_time": "2023-12-06T10:33:32.451989700Z"
    }
   },
   "id": "a03a0157472d9005"
  },
  {
   "cell_type": "code",
   "execution_count": 4,
   "outputs": [],
   "source": [
    "def compute_grad_vect(x, y, w, b):\n",
    "    m = x.shape[0]\n",
    "    \n",
    "    f_wb = np.dot(x, w) + b\n",
    "    error = f_wb - y\n",
    "    dJ_dw = np.dot(x.T, error) * (1/m)  \n",
    "    dJ_db = np.sum(error) * (1/m) \n",
    "    \n",
    "    return (dJ_dw, dJ_db)"
   ],
   "metadata": {
    "collapsed": false,
    "ExecuteTime": {
     "end_time": "2023-12-06T10:33:32.481846900Z",
     "start_time": "2023-12-06T10:33:32.467060600Z"
    }
   },
   "id": "4514ccfb3e1f4412"
  },
  {
   "cell_type": "code",
   "execution_count": 5,
   "outputs": [
    {
     "name": "stdout",
     "output_type": "stream",
     "text": [
      "Lowest cost: 2161.3242\n",
      "Best model equation: f = -1.5797.x1 + 1.8099.x2 + 29.7830\n"
     ]
    },
    {
     "data": {
      "text/plain": "[<matplotlib.lines.Line2D at 0x1f1ec64e730>]"
     },
     "execution_count": 5,
     "metadata": {},
     "output_type": "execute_result"
    },
    {
     "data": {
      "text/plain": "<Figure size 640x480 with 1 Axes>",
      "image/png": "[encoded data removed]"
     },
     "metadata": {},
     "output_type": "display_data"
    }
   ],
   "source": [
    "# training\n",
    "\n",
    "# define model\n",
    "w_init = np.array([[11], [15]])\n",
    "b_init = 30\n",
    "\n",
    "# define count of iterations and alpha parameters\n",
    "iterations = 300\n",
    "alpha = 3.0e-6\n",
    "\n",
    "# avoid modifying global array \n",
    "w = copy.deepcopy(w_init)\n",
    "b = copy.deepcopy(b_init)\n",
    "\n",
    "# arrays to store cost values and model parameters (w and b) in all steps of training - to future plotting function\n",
    "cost_history = []\n",
    "model_history = []\n",
    "\n",
    "# run training\n",
    "for i in range(iterations):\n",
    "    dJ_dw, dJ_db = compute_grad_vect(x, y, w, b)\n",
    "    \n",
    "    w = w - np.dot(dJ_dw, alpha)\n",
    "    b = b - np.dot(dJ_db, alpha)\n",
    "    \n",
    "    # save all costs and model parameters in to arrays\n",
    "    cost_history.append(compute_cost_vect(x, y, w, b))\n",
    "    model_history.append([w, b])\n",
    "\n",
    "print(f\"Lowest cost: {cost_history[-1]:.4f}\")\n",
    "print(\"Best model equation: f = {:.4f}.x1 + {:.4f}.x2 + {:.4f}\".format(model_history[-1][0][0][0], model_history[-1][0][1][0], model_history[-1][1]))\n",
    "plt.plot(cost_history)"
   ],
   "metadata": {
    "collapsed": false,
    "ExecuteTime": {
     "end_time": "2023-12-06T10:33:32.636842100Z",
     "start_time": "2023-12-06T10:33:32.484813800Z"
    }
   },
   "id": "2179c03bdd5c5e66"
  }
 ],
 "metadata": {
  "kernelspec": {
   "display_name": "Python 3",
   "language": "python",
   "name": "python3"
  },
  "language_info": {
   "codemirror_mode": {
    "name": "ipython",
    "version": 2
   },
   "file_extension": ".py",
   "mimetype": "text/x-python",
   "name": "python",
   "nbconvert_exporter": "python",
   "pygments_lexer": "ipython2",
   "version": "2.7.6"
  }
 },
 "nbformat": 4,
 "nbformat_minor": 5
}
